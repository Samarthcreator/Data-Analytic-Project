{
 "cells": [
  {
   "cell_type": "code",
   "execution_count": 2,
   "id": "7c22fd6a-6cce-4923-aa9e-8b03bbb20394",
   "metadata": {},
   "outputs": [
    {
     "data": {
      "text/html": [
       "<div>\n",
       "<style scoped>\n",
       "    .dataframe tbody tr th:only-of-type {\n",
       "        vertical-align: middle;\n",
       "    }\n",
       "\n",
       "    .dataframe tbody tr th {\n",
       "        vertical-align: top;\n",
       "    }\n",
       "\n",
       "    .dataframe thead th {\n",
       "        text-align: right;\n",
       "    }\n",
       "</style>\n",
       "<table border=\"1\" class=\"dataframe\">\n",
       "  <thead>\n",
       "    <tr style=\"text-align: right;\">\n",
       "      <th></th>\n",
       "      <th>Product</th>\n",
       "      <th>Brand</th>\n",
       "      <th>Product Code</th>\n",
       "      <th>Product Specification</th>\n",
       "      <th>Price</th>\n",
       "      <th>Inward Date</th>\n",
       "      <th>Dispatch Date</th>\n",
       "      <th>Quantity Sold</th>\n",
       "      <th>Customer Name</th>\n",
       "      <th>Customer Location</th>\n",
       "      <th>Region</th>\n",
       "      <th>Core Specification</th>\n",
       "      <th>Processor Specification</th>\n",
       "      <th>RAM</th>\n",
       "      <th>ROM</th>\n",
       "      <th>SSD</th>\n",
       "    </tr>\n",
       "  </thead>\n",
       "  <tbody>\n",
       "    <tr>\n",
       "      <th>0</th>\n",
       "      <td>Mobile Phone</td>\n",
       "      <td>Motorola</td>\n",
       "      <td>88EB4558</td>\n",
       "      <td>Site candidate activity company there bit insi...</td>\n",
       "      <td>78570</td>\n",
       "      <td>2023-08-02</td>\n",
       "      <td>2023-08-03</td>\n",
       "      <td>6</td>\n",
       "      <td>William Hess</td>\n",
       "      <td>South Kelsey</td>\n",
       "      <td>Central</td>\n",
       "      <td>NaN</td>\n",
       "      <td>Snapdragon 7 Gen</td>\n",
       "      <td>12GB</td>\n",
       "      <td>128GB</td>\n",
       "      <td>NaN</td>\n",
       "    </tr>\n",
       "    <tr>\n",
       "      <th>1</th>\n",
       "      <td>Laptop</td>\n",
       "      <td>Oppo</td>\n",
       "      <td>416DFEEB</td>\n",
       "      <td>Beat put care fight affect address his.</td>\n",
       "      <td>44613</td>\n",
       "      <td>2023-10-03</td>\n",
       "      <td>2023-10-06</td>\n",
       "      <td>1</td>\n",
       "      <td>Larry Smith</td>\n",
       "      <td>North Lisa</td>\n",
       "      <td>South</td>\n",
       "      <td>Ryzen 5</td>\n",
       "      <td>Ryzen 5</td>\n",
       "      <td>8GB</td>\n",
       "      <td>512GB</td>\n",
       "      <td>256GB</td>\n",
       "    </tr>\n",
       "    <tr>\n",
       "      <th>2</th>\n",
       "      <td>Mobile Phone</td>\n",
       "      <td>Samsung</td>\n",
       "      <td>9F975B08</td>\n",
       "      <td>Energy special low seven place audience.</td>\n",
       "      <td>159826</td>\n",
       "      <td>2025-03-19</td>\n",
       "      <td>2025-03-20</td>\n",
       "      <td>5</td>\n",
       "      <td>Leah Copeland</td>\n",
       "      <td>South Todd</td>\n",
       "      <td>Central</td>\n",
       "      <td>NaN</td>\n",
       "      <td>MediaTek Dimensity</td>\n",
       "      <td>8GB</td>\n",
       "      <td>256GB</td>\n",
       "      <td>NaN</td>\n",
       "    </tr>\n",
       "    <tr>\n",
       "      <th>3</th>\n",
       "      <td>Laptop</td>\n",
       "      <td>Sony</td>\n",
       "      <td>73D2A7CC</td>\n",
       "      <td>Friend record hard contain minute we role sea ...</td>\n",
       "      <td>20911</td>\n",
       "      <td>2024-02-06</td>\n",
       "      <td>2024-03-27</td>\n",
       "      <td>1</td>\n",
       "      <td>Dan Kirby</td>\n",
       "      <td>New Jordanmouth</td>\n",
       "      <td>South</td>\n",
       "      <td>i7</td>\n",
       "      <td>i7</td>\n",
       "      <td>12GB</td>\n",
       "      <td>64GB</td>\n",
       "      <td>2TB</td>\n",
       "    </tr>\n",
       "    <tr>\n",
       "      <th>4</th>\n",
       "      <td>Laptop</td>\n",
       "      <td>Microsoft</td>\n",
       "      <td>CCE0B80D</td>\n",
       "      <td>Program recently feeling save tree hotel people.</td>\n",
       "      <td>69832</td>\n",
       "      <td>2023-08-10</td>\n",
       "      <td>2023-09-10</td>\n",
       "      <td>4</td>\n",
       "      <td>Dean Martin</td>\n",
       "      <td>Keithton</td>\n",
       "      <td>East</td>\n",
       "      <td>i7</td>\n",
       "      <td>i7</td>\n",
       "      <td>8GB</td>\n",
       "      <td>128GB</td>\n",
       "      <td>2TB</td>\n",
       "    </tr>\n",
       "  </tbody>\n",
       "</table>\n",
       "</div>"
      ],
      "text/plain": [
       "        Product      Brand Product Code  \\\n",
       "0  Mobile Phone   Motorola     88EB4558   \n",
       "1        Laptop       Oppo     416DFEEB   \n",
       "2  Mobile Phone    Samsung     9F975B08   \n",
       "3        Laptop       Sony     73D2A7CC   \n",
       "4        Laptop  Microsoft     CCE0B80D   \n",
       "\n",
       "                               Product Specification   Price Inward Date  \\\n",
       "0  Site candidate activity company there bit insi...   78570  2023-08-02   \n",
       "1            Beat put care fight affect address his.   44613  2023-10-03   \n",
       "2           Energy special low seven place audience.  159826  2025-03-19   \n",
       "3  Friend record hard contain minute we role sea ...   20911  2024-02-06   \n",
       "4   Program recently feeling save tree hotel people.   69832  2023-08-10   \n",
       "\n",
       "  Dispatch Date  Quantity Sold  Customer Name Customer Location   Region  \\\n",
       "0    2023-08-03              6   William Hess      South Kelsey  Central   \n",
       "1    2023-10-06              1    Larry Smith        North Lisa    South   \n",
       "2    2025-03-20              5  Leah Copeland        South Todd  Central   \n",
       "3    2024-03-27              1      Dan Kirby   New Jordanmouth    South   \n",
       "4    2023-09-10              4    Dean Martin          Keithton     East   \n",
       "\n",
       "  Core Specification Processor Specification   RAM    ROM    SSD  \n",
       "0                NaN        Snapdragon 7 Gen  12GB  128GB    NaN  \n",
       "1            Ryzen 5                 Ryzen 5   8GB  512GB  256GB  \n",
       "2                NaN      MediaTek Dimensity   8GB  256GB    NaN  \n",
       "3                 i7                      i7  12GB   64GB    2TB  \n",
       "4                 i7                      i7   8GB  128GB    2TB  "
      ]
     },
     "execution_count": 2,
     "metadata": {},
     "output_type": "execute_result"
    }
   ],
   "source": [
    "import pandas as pd\n",
    "import numpy as np\n",
    "import matplotlib.pyplot as plt\n",
    "import seaborn as sns\n",
    "\n",
    "df = pd.read_csv(\"mobile_sales_data.csv\")\n",
    "df.head()"
   ]
  },
  {
   "cell_type": "code",
   "execution_count": 4,
   "id": "b14bdb07-50df-4dbb-aa95-74958c4ca160",
   "metadata": {
    "scrolled": true
   },
   "outputs": [
    {
     "data": {
      "text/plain": [
       "Product                        0\n",
       "Brand                          0\n",
       "Product Code                   0\n",
       "Product Specification          0\n",
       "Price                          0\n",
       "Inward Date                    0\n",
       "Dispatch Date                  0\n",
       "Quantity Sold                  0\n",
       "Customer Name                  0\n",
       "Customer Location              0\n",
       "Region                         0\n",
       "Core Specification         24983\n",
       "Processor Specification        0\n",
       "RAM                            0\n",
       "ROM                            0\n",
       "SSD                        24983\n",
       "dtype: int64"
      ]
     },
     "execution_count": 4,
     "metadata": {},
     "output_type": "execute_result"
    }
   ],
   "source": [
    "df.isnull().sum()"
   ]
  },
  {
   "cell_type": "code",
   "execution_count": 5,
   "id": "b08a1840-5c11-4545-8ef5-c90d4b868dea",
   "metadata": {},
   "outputs": [
    {
     "data": {
      "text/plain": [
       "Product  Core Specification\n",
       "Laptop   i5                    3215\n",
       "         Ryzen 3               3176\n",
       "         i9                    3146\n",
       "         i3                    3143\n",
       "         Ryzen 7               3135\n",
       "         i7                    3105\n",
       "         Ryzen 5               3050\n",
       "         Ryzen 9               3047\n",
       "Name: count, dtype: int64"
      ]
     },
     "execution_count": 5,
     "metadata": {},
     "output_type": "execute_result"
    }
   ],
   "source": [
    "df.groupby([\"Product\"])[\"Core Specification\"].value_counts()"
   ]
  },
  {
   "cell_type": "code",
   "execution_count": 6,
   "id": "a571892a-5f29-4879-9a4a-22a8f2b1ac15",
   "metadata": {},
   "outputs": [
    {
     "data": {
      "text/plain": [
       "array(['Mobile Phone', 'Laptop'], dtype=object)"
      ]
     },
     "execution_count": 6,
     "metadata": {},
     "output_type": "execute_result"
    }
   ],
   "source": [
    "df.Product.unique()"
   ]
  },
  {
   "cell_type": "code",
   "execution_count": 7,
   "id": "9fa7c576-5dc0-42a6-a118-2a2ca72e642d",
   "metadata": {},
   "outputs": [
    {
     "data": {
      "text/plain": [
       "Product\n",
       "Laptop          25017\n",
       "Mobile Phone    24983\n",
       "Name: count, dtype: int64"
      ]
     },
     "execution_count": 7,
     "metadata": {},
     "output_type": "execute_result"
    }
   ],
   "source": [
    "df.Product.value_counts()"
   ]
  },
  {
   "cell_type": "code",
   "execution_count": 8,
   "id": "5cb43d38-dbd0-4be8-95e5-92f28eae00cb",
   "metadata": {},
   "outputs": [
    {
     "data": {
      "text/plain": [
       "Brand\n",
       "Google       2598\n",
       "Nokia        2571\n",
       "Apple        2564\n",
       "Samsung      2558\n",
       "Toshiba      2555\n",
       "Sony         2547\n",
       "OnePlus      2541\n",
       "Acer         2533\n",
       "Redmi        2529\n",
       "Huawei       2497\n",
       "Vivo         2489\n",
       "Motorola     2483\n",
       "Lenovo       2471\n",
       "iQOO         2467\n",
       "Oppo         2460\n",
       "Microsoft    2457\n",
       "HP           2446\n",
       "Dell         2435\n",
       "Asus         2413\n",
       "Realme       2386\n",
       "Name: count, dtype: int64"
      ]
     },
     "execution_count": 8,
     "metadata": {},
     "output_type": "execute_result"
    }
   ],
   "source": [
    "df[\"Brand\"].value_counts()"
   ]
  },
  {
   "cell_type": "code",
   "execution_count": 23,
   "id": "787d6a76-4c0a-4529-b358-30d32dbb0693",
   "metadata": {},
   "outputs": [
    {
     "data": {
      "text/html": [
       "<div>\n",
       "<style scoped>\n",
       "    .dataframe tbody tr th:only-of-type {\n",
       "        vertical-align: middle;\n",
       "    }\n",
       "\n",
       "    .dataframe tbody tr th {\n",
       "        vertical-align: top;\n",
       "    }\n",
       "\n",
       "    .dataframe thead th {\n",
       "        text-align: right;\n",
       "    }\n",
       "</style>\n",
       "<table border=\"1\" class=\"dataframe\">\n",
       "  <thead>\n",
       "    <tr style=\"text-align: right;\">\n",
       "      <th></th>\n",
       "      <th>Price</th>\n",
       "      <th>Quantity Sold</th>\n",
       "    </tr>\n",
       "  </thead>\n",
       "  <tbody>\n",
       "    <tr>\n",
       "      <th>Price</th>\n",
       "      <td>1.00000</td>\n",
       "      <td>-0.00222</td>\n",
       "    </tr>\n",
       "    <tr>\n",
       "      <th>Quantity Sold</th>\n",
       "      <td>-0.00222</td>\n",
       "      <td>1.00000</td>\n",
       "    </tr>\n",
       "  </tbody>\n",
       "</table>\n",
       "</div>"
      ],
      "text/plain": [
       "                 Price  Quantity Sold\n",
       "Price          1.00000       -0.00222\n",
       "Quantity Sold -0.00222        1.00000"
      ]
     },
     "execution_count": 23,
     "metadata": {},
     "output_type": "execute_result"
    }
   ],
   "source": [
    "df.corr(numeric_only=True)"
   ]
  },
  {
   "cell_type": "code",
   "execution_count": 29,
   "id": "e17f233b-1945-497a-9296-5252ff3278f6",
   "metadata": {},
   "outputs": [
    {
     "data": {
      "text/plain": [
       "Product                        2\n",
       "Brand                         20\n",
       "Product Code               50000\n",
       "Product Specification      50000\n",
       "Price                      44112\n",
       "Inward Date                  731\n",
       "Dispatch Date                788\n",
       "Quantity Sold                 10\n",
       "Customer Name              40013\n",
       "Customer Location          25147\n",
       "Region                         5\n",
       "Core Specification             8\n",
       "Processor Specification       15\n",
       "RAM                            6\n",
       "ROM                            5\n",
       "SSD                            4\n",
       "dtype: int64"
      ]
     },
     "execution_count": 29,
     "metadata": {},
     "output_type": "execute_result"
    }
   ],
   "source": [
    "df.nunique()"
   ]
  },
  {
   "cell_type": "code",
   "execution_count": 35,
   "id": "f0ea9d6a-7279-4bff-aacc-46aa7e14c6a8",
   "metadata": {},
   "outputs": [],
   "source": [
    "df[\"Inward Date\"] = pd.to_datetime(df[\"Inward Date\"])\n",
    "df[\"Dispatch Date\"]= pd.to_datetime(df[\"Dispatch Date\"])"
   ]
  },
  {
   "cell_type": "markdown",
   "id": "6806e0bf-bd00-41d3-b518-327b8e2ef77c",
   "metadata": {},
   "source": [
    "What are the top-selling brands overall?\n",
    "\n",
    "How many products were sold in total?\n",
    "\n",
    "What is the average price of products?\n",
    "\n",
    "Which region has the highest number of sales?\n",
    "\n",
    "Which product type (Mobile Phone vs Laptop) is sold more frequently?\n",
    "\n",
    "What is the distribution of RAM and ROM among the sold products?\n",
    "\n",
    "Which month had the highest number of product dispatches?"
   ]
  },
  {
   "cell_type": "code",
   "execution_count": 55,
   "id": "3a278999-0ee2-4056-b80d-c33b6072d3b9",
   "metadata": {},
   "outputs": [
    {
     "data": {
      "image/png": "[encoded data removed]",
      "text/plain": [
       "<Figure size 1200x800 with 1 Axes>"
      ]
     },
     "metadata": {},
     "output_type": "display_data"
    }
   ],
   "source": [
    "plt.figure(figsize=(12,8))\n",
    "sns.countplot(x=df.Brand)\n",
    "plt.ylim(2000,2700)\n",
    "plt.xticks(rotation=90)\n",
    "plt.show()"
   ]
  },
  {
   "cell_type": "markdown",
   "id": "1bfcf244-6023-4672-8006-02dca1714e71",
   "metadata": {},
   "source": [
    "As per Above Graph Google is the top selling Brand overall"
   ]
  },
  {
   "cell_type": "code",
   "execution_count": 48,
   "id": "06bb66dc-77a4-40bf-90af-b1efbc524dd8",
   "metadata": {},
   "outputs": [],
   "source": [
    "temp=df.groupby([\"Product\"])[\"Quantity Sold\"].sum()"
   ]
  },
  {
   "cell_type": "code",
   "execution_count": 54,
   "id": "20766047-afe2-4c77-9a8e-9628ade5a013",
   "metadata": {},
   "outputs": [
    {
     "name": "stdout",
     "output_type": "stream",
     "text": [
      "Product\n",
      "Laptop          138019\n",
      "Mobile Phone    137670\n",
      "Name: Quantity Sold, dtype: int64\n"
     ]
    },
    {
     "data": {
      "text/plain": [
       "(135000.0, 140000.0)"
      ]
     },
     "execution_count": 54,
     "metadata": {},
     "output_type": "execute_result"
    },
    {
     "data": {
      "image/png": "[encoded data removed]",
      "text/plain": [
       "<Figure size 600x500 with 1 Axes>"
      ]
     },
     "metadata": {},
     "output_type": "display_data"
    }
   ],
   "source": [
    "print(temp)\n",
    "plt.figure(figsize=(6,5))\n",
    "plt.bar(temp.index,temp.values)\n",
    "plt.ylim(135000,140000)\n"
   ]
  },
  {
   "cell_type": "markdown",
   "id": "1d4d30f3-2050-4a7b-8101-7f0fca79abe0",
   "metadata": {},
   "source": [
    "As per above Graph Laptop has more sales than Mobile Phone"
   ]
  },
  {
   "cell_type": "code",
   "execution_count": null,
   "id": "aa1973be-683c-4a1a-ad28-0a26c2a4e475",
   "metadata": {},
   "outputs": [],
   "source": [
    "What is the average price of products?"
   ]
  },
  {
   "cell_type": "code",
   "execution_count": 59,
   "id": "992004a9-41be-4cbe-a23f-08f962057ed6",
   "metadata": {},
   "outputs": [
    {
     "name": "stdout",
     "output_type": "stream",
     "text": [
      "102498.00636432774\n",
      "102784.6129032258\n"
     ]
    }
   ],
   "source": [
    "mobile=df[df.Product==\"Mobile Phone\"][\"Price\"].mean()\n",
    "laptop=df[df.Product==\"Laptop\"][\"Price\"].mean()\n",
    "print(mobile)\n",
    "print(laptop)"
   ]
  },
  {
   "cell_type": "code",
   "execution_count": null,
   "id": "06d527f2-7dad-4ad5-8b59-b818751b46df",
   "metadata": {},
   "outputs": [],
   "source": [
    "Which region has the highest number of sales?"
   ]
  },
  {
   "cell_type": "code",
   "execution_count": 67,
   "id": "6f6bc1a4-729f-46d4-9523-25ffca7509dd",
   "metadata": {},
   "outputs": [],
   "source": [
    "temp=df.groupby([\"Region\"])[\"Price\"].sum()"
   ]
  },
  {
   "cell_type": "code",
   "execution_count": 73,
   "id": "34300ae5-0a00-4af2-8d3c-27876b07d694",
   "metadata": {},
   "outputs": [
    {
     "data": {
      "image/png": "[encoded data removed]",
      "text/plain": [
       "<Figure size 600x500 with 1 Axes>"
      ]
     },
     "metadata": {},
     "output_type": "display_data"
    }
   ],
   "source": [
    "plt.figure(figsize=(6,5))\n",
    "plt.bar(temp.index,temp.values)\n",
    "plt.ylim(1007968721-10000000,1062003381+1000000)\n",
    "# plt.yticks(temp.values)\n",
    "plt.show()"
   ]
  },
  {
   "cell_type": "markdown",
   "id": "a2642481-b41e-430c-aba4-d1a8be80f0b4",
   "metadata": {},
   "source": [
    "West Region as the most sales overall"
   ]
  },
  {
   "cell_type": "code",
   "execution_count": null,
   "id": "78e23cf1-2943-4da8-be7f-c9d2758c99b5",
   "metadata": {},
   "outputs": [],
   "source": [
    "Which product type (Mobile Phone vs Laptop) is sold more frequently?"
   ]
  },
  {
   "cell_type": "code",
   "execution_count": 74,
   "id": "a730ca02-e536-4c56-a731-cf0773709415",
   "metadata": {},
   "outputs": [
    {
     "name": "stdout",
     "output_type": "stream",
     "text": [
      "137670\n",
      "138019\n"
     ]
    }
   ],
   "source": [
    "mobile =df[df[\"Product\"]==\"Mobile Phone\"][\"Quantity Sold\"].sum()\n",
    "laptop =df[df[\"Product\"]==\"Laptop\"][\"Quantity Sold\"].sum()"
   ]
  },
  {
   "cell_type": "code",
   "execution_count": 76,
   "id": "05eb00be-f3bb-4943-b9c2-8878226fe1c3",
   "metadata": {},
   "outputs": [
    {
     "data": {
      "text/plain": [
       "<BarContainer object of 2 artists>"
      ]
     },
     "execution_count": 76,
     "metadata": {},
     "output_type": "execute_result"
    },
    {
     "data": {
      "image/png": "[encoded data removed]",
      "text/plain": [
       "<Figure size 640x480 with 1 Axes>"
      ]
     },
     "metadata": {},
     "output_type": "display_data"
    }
   ],
   "source": [
    "plt.bar([\"Mobile\",\"Laptop\"],[mobile,laptop])"
   ]
  },
  {
   "cell_type": "markdown",
   "id": "d7fec863-0c9e-4ed6-b7cf-7c7cb14714ca",
   "metadata": {},
   "source": [
    "Both have almost same sales in terms of Quantity(\"Mobile\"->137670,\"Laptop\"->138019)"
   ]
  },
  {
   "cell_type": "code",
   "execution_count": null,
   "id": "7f103fe0-bba1-42b3-9247-66101e319674",
   "metadata": {},
   "outputs": [],
   "source": [
    "What is the distribution of RAM and ROM among the sold products?"
   ]
  },
  {
   "cell_type": "code",
   "execution_count": 79,
   "id": "b9982443-5880-4748-b0a2-2f06c439a66f",
   "metadata": {},
   "outputs": [
    {
     "data": {
      "text/plain": [
       "RAM   Product     \n",
       "12GB  Laptop          4135\n",
       "      Mobile Phone    4160\n",
       "16GB  Laptop          4150\n",
       "      Mobile Phone    4159\n",
       "32GB  Laptop          4236\n",
       "      Mobile Phone    4152\n",
       "4GB   Laptop          4170\n",
       "      Mobile Phone    4247\n",
       "6GB   Laptop          4210\n",
       "      Mobile Phone    4094\n",
       "8GB   Laptop          4116\n",
       "      Mobile Phone    4171\n",
       "Name: Product, dtype: int64"
      ]
     },
     "execution_count": 79,
     "metadata": {},
     "output_type": "execute_result"
    }
   ],
   "source": [
    "df.groupby([\"RAM\",\"Product\"])[\"Product\"].count()"
   ]
  },
  {
   "cell_type": "code",
   "execution_count": 110,
   "id": "08912bd5-173b-4db4-9ca0-bac22fb94269",
   "metadata": {},
   "outputs": [
    {
     "data": {
      "text/plain": [
       "RAM   Product     \n",
       "12GB  Laptop          4135\n",
       "      Mobile Phone    4160\n",
       "16GB  Laptop          4150\n",
       "      Mobile Phone    4159\n",
       "32GB  Laptop          4236\n",
       "      Mobile Phone    4152\n",
       "4GB   Laptop          4170\n",
       "      Mobile Phone    4247\n",
       "6GB   Laptop          4210\n",
       "      Mobile Phone    4094\n",
       "8GB   Laptop          4116\n",
       "      Mobile Phone    4171\n",
       "Name: Product, dtype: int64"
      ]
     },
     "execution_count": 110,
     "metadata": {},
     "output_type": "execute_result"
    }
   ],
   "source": [
    "df.groupby([\"RAM\",\"Product\"])[\"Product\"].count()"
   ]
  },
  {
   "cell_type": "code",
   "execution_count": 108,
   "id": "fdc9abc6-dfd8-4f8f-82ee-d093fce39229",
   "metadata": {},
   "outputs": [
    {
     "data": {
      "text/plain": [
       "ROM    Product     \n",
       "128GB  Laptop          5046\n",
       "       Mobile Phone    4891\n",
       "1TB    Laptop          5004\n",
       "       Mobile Phone    4989\n",
       "256GB  Laptop          5034\n",
       "       Mobile Phone    5093\n",
       "512GB  Laptop          5036\n",
       "       Mobile Phone    4967\n",
       "64GB   Laptop          4897\n",
       "       Mobile Phone    5043\n",
       "Name: Product, dtype: int64"
      ]
     },
     "execution_count": 108,
     "metadata": {},
     "output_type": "execute_result"
    }
   ],
   "source": [
    "df.groupby([\"ROM\",\"Product\"])[\"Product\"].count()"
   ]
  },
  {
   "cell_type": "code",
   "execution_count": null,
   "id": "fefe3a43-8b6c-493e-ad62-12261fa55bee",
   "metadata": {},
   "outputs": [],
   "source": [
    "Which month had the highest number of product dispatches?"
   ]
  },
  {
   "cell_type": "code",
   "execution_count": 118,
   "id": "9dc48fba-6533-4b47-a3b0-93ea10329dc1",
   "metadata": {},
   "outputs": [
    {
     "data": {
      "image/png": "[encoded data removed]",
      "text/plain": [
       "<Figure size 1200x600 with 1 Axes>"
      ]
     },
     "metadata": {},
     "output_type": "display_data"
    }
   ],
   "source": [
    "df[\"Dispatch Month\"] = df[\"Dispatch Date\"].dt.to_period(\"M\")\n",
    "monthly_dispatch_counts = df[\"Dispatch Month\"].value_counts().sort_index()\n",
    "plt.figure(figsize=(12, 6))\n",
    "monthly_dispatch_counts.plot(kind='bar', color='skyblue')\n",
    "plt.title(\"Monthly Product Dispatch Counts\")\n",
    "plt.xlabel(\"Month\")\n",
    "plt.ylabel(\"Number of Dispatches\")\n",
    "plt.xticks(rotation=45)\n",
    "plt.tight_layout()\n",
    "plt.show()"
   ]
  },
  {
   "cell_type": "markdown",
   "id": "fc852094-ac84-4a04-b678-3a75f8756bba",
   "metadata": {},
   "source": [
    "What are the top 5 products by total quantity sold?\n",
    "\n",
    "What’s the total revenue per region?\n",
    "\n",
    "How does the sales volume vary across different brands and regions?\n",
    "\n",
    "What are the most common processor types sold?\n",
    "\n",
    "What’s the average quantity sold per transaction per brand?\n",
    "\n",
    "How many products have SSD info missing (possibly mobiles)?\n",
    "\n",
    "Is there a price difference between products with different RAM/ROM combinations?"
   ]
  },
  {
   "cell_type": "code",
   "execution_count": null,
   "id": "8da25322-e1d7-47ef-b387-119eaa37b85c",
   "metadata": {},
   "outputs": [],
   "source": []
  }
 ],
 "metadata": {
  "kernelspec": {
   "display_name": "Python 3 (ipykernel)",
   "language": "python",
   "name": "python3"
  },
  "language_info": {
   "codemirror_mode": {
    "name": "ipython",
    "version": 3
   },
   "file_extension": ".py",
   "mimetype": "text/x-python",
   "name": "python",
   "nbconvert_exporter": "python",
   "pygments_lexer": "ipython3",
   "version": "3.12.5"
  }
 },
 "nbformat": 4,
 "nbformat_minor": 5
}
